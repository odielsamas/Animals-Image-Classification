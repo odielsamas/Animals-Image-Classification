{
  "nbformat": 4,
  "nbformat_minor": 0,
  "metadata": {
    "colab": {
      "provenance": []
    },
    "kernelspec": {
      "name": "python3",
      "display_name": "Python 3"
    },
    "language_info": {
      "name": "python"
    },
    "gpuClass": "standard",
    "accelerator": "GPU"
  },
  "cells": [
    {
      "cell_type": "code",
      "source": [
        "! chmod 600 /content/kaggle.json"
      ],
      "metadata": {
        "id": "Usza2fiAS1vo",
        "colab": {
          "base_uri": "https://localhost:8080/"
        },
        "outputId": "de7551dd-40a1-4a9f-c02f-873164f64e04"
      },
      "execution_count": 1,
      "outputs": [
        {
          "output_type": "stream",
          "name": "stdout",
          "text": [
            "chmod: cannot access '/content/kaggle.json': No such file or directory\n"
          ]
        }
      ]
    },
    {
      "cell_type": "code",
      "source": [
        "# import dataset\n",
        "! KAGGLE_CONFIG_DIR=/content/ kaggle datasets download -d shiv28/animal-5-mammal"
      ],
      "metadata": {
        "colab": {
          "base_uri": "https://localhost:8080/"
        },
        "id": "f6qmTXzDTmjk",
        "outputId": "99bf6171-a9db-4e49-ab09-c83f2658dd69"
      },
      "execution_count": 3,
      "outputs": [
        {
          "output_type": "stream",
          "name": "stdout",
          "text": [
            "Warning: Your Kaggle API key is readable by other users on this system! To fix this, you can run 'chmod 600 /content/kaggle.json'\n",
            "Downloading animal-5-mammal.zip to /content\n",
            "100% 889M/892M [00:28<00:00, 47.4MB/s]\n",
            "100% 892M/892M [00:28<00:00, 33.3MB/s]\n"
          ]
        }
      ]
    },
    {
      "cell_type": "code",
      "source": [
        "import zipfile,os\n",
        "\n",
        "zip_file = zipfile.ZipFile('/content/animal-5-mammal.zip')\n",
        "zip_file.extractall('/tmp/')"
      ],
      "metadata": {
        "id": "SJdDd-rET6w2"
      },
      "execution_count": 4,
      "outputs": []
    },
    {
      "cell_type": "code",
      "source": [
        "daftar_hewan=os.listdir('/tmp/Animal/train')\n",
        "print(daftar_hewan)"
      ],
      "metadata": {
        "colab": {
          "base_uri": "https://localhost:8080/"
        },
        "id": "FMs53G8FsOHI",
        "outputId": "5b5e5a45-a3b2-4192-ab57-bc057d2c3a60"
      },
      "execution_count": 21,
      "outputs": [
        {
          "output_type": "stream",
          "name": "stdout",
          "text": [
            "['cat', 'ELEPHANT', 'LION', 'HORSE', 'dog']\n"
          ]
        }
      ]
    },
    {
      "cell_type": "code",
      "source": [
        "from PIL import Image\n",
        "\n",
        "total = 0\n",
        "\n",
        "for i in daftar_hewan:\n",
        "  dir = os.path.join('/tmp/Animal/train', i)\n",
        "  y = len(os.listdir(dir))\n",
        "  print(i+':', y)\n",
        "  total = total + y\n",
        "  \n",
        "  img_name = os.listdir(dir)\n",
        "\n",
        "  for j in range(4):\n",
        "    img_path = os.path.join(dir, img_name[j])\n",
        "    img = Image.open(img_path)\n",
        "    print('-',img.size)\n",
        "  print('======================')\n",
        "\n",
        "print('\\nTotal Dataset :', total)"
      ],
      "metadata": {
        "colab": {
          "base_uri": "https://localhost:8080/"
        },
        "id": "oiXknDyKspVi",
        "outputId": "8b61ea4a-40e4-49ad-c89a-28d7af2bd36a"
      },
      "execution_count": 22,
      "outputs": [
        {
          "output_type": "stream",
          "name": "stdout",
          "text": [
            "cat: 2737\n",
            "- (512, 512)\n",
            "- (512, 512)\n",
            "- (512, 512)\n",
            "- (512, 512)\n",
            "======================\n",
            "ELEPHANT: 2740\n",
            "- (64, 64)\n",
            "- (64, 64)\n",
            "- (100, 100)\n",
            "- (64, 64)\n",
            "======================\n",
            "LION: 2684\n",
            "- (226, 340)\n",
            "- (300, 168)\n",
            "- (226, 340)\n",
            "- (64, 64)\n",
            "======================\n",
            "HORSE: 2709\n",
            "- (1024, 680)\n",
            "- (278, 181)\n",
            "- (1024, 768)\n",
            "- (1024, 768)\n",
            "======================\n",
            "dog: 2627\n",
            "- (512, 512)\n",
            "- (512, 512)\n",
            "- (512, 512)\n",
            "- (512, 512)\n",
            "======================\n",
            "\n",
            "Total Dataset : 13497\n"
          ]
        }
      ]
    },
    {
      "cell_type": "code",
      "source": [
        "from tensorflow.keras.preprocessing.image import ImageDataGenerator\n",
        "\n",
        "train_data = ImageDataGenerator(\n",
        "    rescale=1/255,\n",
        "    horizontal_flip=True,\n",
        "    vertical_flip=True,\n",
        "    rotation_range=30,\n",
        "    shear_range = 0.2,\n",
        "    fill_mode='nearest',\n",
        "    validation_split=0.2\n",
        ")\n",
        "\n",
        "val_data = ImageDataGenerator(\n",
        "    rescale=1/255\n",
        ")"
      ],
      "metadata": {
        "id": "tSOC-Q-JUyeA"
      },
      "execution_count": 30,
      "outputs": []
    },
    {
      "cell_type": "code",
      "source": [
        "train_generator = train_data.flow_from_directory(\n",
        "    '/tmp/Animal/train',\n",
        "    target_size=(150,150),\n",
        "    class_mode='categorical',\n",
        "    subset='training'\n",
        ")"
      ],
      "metadata": {
        "colab": {
          "base_uri": "https://localhost:8080/"
        },
        "id": "PoJ7JUFjWWv5",
        "outputId": "2a26436a-d4a3-421a-a46a-52d5fac54aee"
      },
      "execution_count": 31,
      "outputs": [
        {
          "output_type": "stream",
          "name": "stdout",
          "text": [
            "Found 10799 images belonging to 5 classes.\n"
          ]
        }
      ]
    },
    {
      "cell_type": "code",
      "source": [
        "val_generator = train_data.flow_from_directory(\n",
        "    '/tmp/Animal/train',\n",
        "    target_size=(150,150),\n",
        "    class_mode='categorical',\n",
        "    subset='validation'\n",
        ")"
      ],
      "metadata": {
        "colab": {
          "base_uri": "https://localhost:8080/"
        },
        "id": "HwI7hWihWanX",
        "outputId": "4923d017-ee47-4d94-c354-08562499a42c"
      },
      "execution_count": 32,
      "outputs": [
        {
          "output_type": "stream",
          "name": "stdout",
          "text": [
            "Found 2697 images belonging to 5 classes.\n"
          ]
        }
      ]
    },
    {
      "cell_type": "code",
      "source": [
        "import tensorflow as tf\n",
        "from tensorflow.keras.models import Sequential\n",
        "from tensorflow.keras.layers import Conv2D, Flatten, MaxPool2D, Dense\n",
        "\n",
        "model = tf.keras.models.Sequential([\n",
        "    tf.keras.layers.Conv2D(32, (3,3), activation='relu', input_shape=(150, 150, 3)),\n",
        "    tf.keras.layers.MaxPooling2D(2, 2),\n",
        "    tf.keras.layers.Conv2D(64, (3,3), activation='relu'),\n",
        "    tf.keras.layers.MaxPooling2D(2,2),\n",
        "    tf.keras.layers.Conv2D(128, (3,3), activation='relu'),\n",
        "    tf.keras.layers.MaxPooling2D(2,2),\n",
        "    tf.keras.layers.Conv2D(512, (3,3), activation='relu'),\n",
        "    tf.keras.layers.MaxPooling2D(2,2),\n",
        "    tf.keras.layers.Flatten(),\n",
        "    tf.keras.layers.Dense(512, activation='relu'),\n",
        "    tf.keras.layers.Dense(5, activation='softmax')\n",
        "])\n",
        "\n",
        "model.summary()"
      ],
      "metadata": {
        "colab": {
          "base_uri": "https://localhost:8080/"
        },
        "id": "oRW3ls4oW_qY",
        "outputId": "aa70f936-9d08-45a9-fcc8-f2511159ef7e"
      },
      "execution_count": 33,
      "outputs": [
        {
          "output_type": "stream",
          "name": "stdout",
          "text": [
            "Model: \"sequential\"\n",
            "_________________________________________________________________\n",
            " Layer (type)                Output Shape              Param #   \n",
            "=================================================================\n",
            " conv2d (Conv2D)             (None, 148, 148, 32)      896       \n",
            "                                                                 \n",
            " max_pooling2d (MaxPooling2D  (None, 74, 74, 32)       0         \n",
            " )                                                               \n",
            "                                                                 \n",
            " conv2d_1 (Conv2D)           (None, 72, 72, 64)        18496     \n",
            "                                                                 \n",
            " max_pooling2d_1 (MaxPooling  (None, 36, 36, 64)       0         \n",
            " 2D)                                                             \n",
            "                                                                 \n",
            " conv2d_2 (Conv2D)           (None, 34, 34, 128)       73856     \n",
            "                                                                 \n",
            " max_pooling2d_2 (MaxPooling  (None, 17, 17, 128)      0         \n",
            " 2D)                                                             \n",
            "                                                                 \n",
            " conv2d_3 (Conv2D)           (None, 15, 15, 512)       590336    \n",
            "                                                                 \n",
            " max_pooling2d_3 (MaxPooling  (None, 7, 7, 512)        0         \n",
            " 2D)                                                             \n",
            "                                                                 \n",
            " flatten (Flatten)           (None, 25088)             0         \n",
            "                                                                 \n",
            " dense (Dense)               (None, 512)               12845568  \n",
            "                                                                 \n",
            " dense_1 (Dense)             (None, 5)                 2565      \n",
            "                                                                 \n",
            "=================================================================\n",
            "Total params: 13,531,717\n",
            "Trainable params: 13,531,717\n",
            "Non-trainable params: 0\n",
            "_________________________________________________________________\n"
          ]
        }
      ]
    },
    {
      "cell_type": "code",
      "source": [
        "model.compile(\n",
        "    loss='binary_crossentropy',\n",
        "    optimizer=tf.optimizers.Adam(),\n",
        "    metrics=['accuracy']\n",
        ")"
      ],
      "metadata": {
        "id": "zbkAy_aMX3eB"
      },
      "execution_count": 34,
      "outputs": []
    },
    {
      "cell_type": "code",
      "source": [
        "class myCallback(tf.keras.callbacks.Callback):\n",
        "  def on_epoch_end(self, epoch, logs={}):\n",
        "    if(logs.get('accuracy')>0.92 and logs.get('val_accuracy')>0.92):\n",
        "      print(\"\\nAkurasi telah mencapai > 92%!\")\n",
        "      self.model.stop_training = True\n",
        "callbacks = myCallback()"
      ],
      "metadata": {
        "id": "FQlIQXI3aZD4"
      },
      "execution_count": 35,
      "outputs": []
    },
    {
      "cell_type": "code",
      "source": [
        "history = model.fit(\n",
        "    train_generator,\n",
        "    epochs=200,\n",
        "    steps_per_epoch=115,\n",
        "    validation_data=val_generator,\n",
        "    validation_steps=10,\n",
        "    verbose=2,\n",
        "    callbacks=[callbacks]\n",
        ")"
      ],
      "metadata": {
        "colab": {
          "base_uri": "https://localhost:8080/"
        },
        "id": "WZh64mgfy5fe",
        "outputId": "7a78db89-dcb1-45d6-9c53-9d7b80db9504"
      },
      "execution_count": 40,
      "outputs": [
        {
          "output_type": "stream",
          "name": "stdout",
          "text": [
            "Epoch 1/200\n",
            "115/115 - 32s - loss: 0.1332 - accuracy: 0.8571 - val_loss: 0.1367 - val_accuracy: 0.8562 - 32s/epoch - 281ms/step\n",
            "Epoch 2/200\n",
            "115/115 - 34s - loss: 0.1366 - accuracy: 0.8559 - val_loss: 0.1628 - val_accuracy: 0.8438 - 34s/epoch - 297ms/step\n",
            "Epoch 3/200\n",
            "115/115 - 33s - loss: 0.1306 - accuracy: 0.8590 - val_loss: 0.1467 - val_accuracy: 0.8562 - 33s/epoch - 284ms/step\n",
            "Epoch 4/200\n",
            "115/115 - 34s - loss: 0.1265 - accuracy: 0.8733 - val_loss: 0.1459 - val_accuracy: 0.8500 - 34s/epoch - 294ms/step\n",
            "Epoch 5/200\n",
            "115/115 - 32s - loss: 0.1324 - accuracy: 0.8591 - val_loss: 0.1143 - val_accuracy: 0.8875 - 32s/epoch - 276ms/step\n",
            "Epoch 6/200\n",
            "115/115 - 34s - loss: 0.1239 - accuracy: 0.8733 - val_loss: 0.1248 - val_accuracy: 0.8813 - 34s/epoch - 296ms/step\n",
            "Epoch 7/200\n",
            "115/115 - 32s - loss: 0.1205 - accuracy: 0.8752 - val_loss: 0.1757 - val_accuracy: 0.8125 - 32s/epoch - 275ms/step\n",
            "Epoch 8/200\n",
            "115/115 - 33s - loss: 0.1160 - accuracy: 0.8804 - val_loss: 0.1270 - val_accuracy: 0.8500 - 33s/epoch - 287ms/step\n",
            "Epoch 9/200\n",
            "115/115 - 33s - loss: 0.1262 - accuracy: 0.8668 - val_loss: 0.1347 - val_accuracy: 0.8625 - 33s/epoch - 287ms/step\n",
            "Epoch 10/200\n",
            "115/115 - 31s - loss: 0.1132 - accuracy: 0.8788 - val_loss: 0.1159 - val_accuracy: 0.8562 - 31s/epoch - 271ms/step\n",
            "Epoch 11/200\n",
            "115/115 - 32s - loss: 0.1136 - accuracy: 0.8842 - val_loss: 0.1178 - val_accuracy: 0.8813 - 32s/epoch - 280ms/step\n",
            "Epoch 12/200\n",
            "115/115 - 32s - loss: 0.1092 - accuracy: 0.8793 - val_loss: 0.1430 - val_accuracy: 0.8313 - 32s/epoch - 278ms/step\n",
            "Epoch 13/200\n",
            "115/115 - 33s - loss: 0.1176 - accuracy: 0.8829 - val_loss: 0.1350 - val_accuracy: 0.8750 - 33s/epoch - 287ms/step\n",
            "Epoch 14/200\n",
            "115/115 - 33s - loss: 0.1087 - accuracy: 0.8864 - val_loss: 0.1255 - val_accuracy: 0.9062 - 33s/epoch - 289ms/step\n",
            "Epoch 15/200\n",
            "115/115 - 32s - loss: 0.1014 - accuracy: 0.8954 - val_loss: 0.1526 - val_accuracy: 0.8438 - 32s/epoch - 282ms/step\n",
            "Epoch 16/200\n",
            "115/115 - 33s - loss: 0.0992 - accuracy: 0.8960 - val_loss: 0.1263 - val_accuracy: 0.8625 - 33s/epoch - 288ms/step\n",
            "Epoch 17/200\n",
            "115/115 - 32s - loss: 0.0983 - accuracy: 0.8989 - val_loss: 0.1224 - val_accuracy: 0.8562 - 32s/epoch - 279ms/step\n",
            "Epoch 18/200\n",
            "115/115 - 32s - loss: 0.0993 - accuracy: 0.9005 - val_loss: 0.1143 - val_accuracy: 0.8750 - 32s/epoch - 280ms/step\n",
            "Epoch 19/200\n",
            "115/115 - 33s - loss: 0.1042 - accuracy: 0.8989 - val_loss: 0.1464 - val_accuracy: 0.8375 - 33s/epoch - 287ms/step\n",
            "Epoch 20/200\n",
            "115/115 - 32s - loss: 0.0936 - accuracy: 0.9060 - val_loss: 0.1671 - val_accuracy: 0.8250 - 32s/epoch - 280ms/step\n",
            "Epoch 21/200\n",
            "115/115 - 32s - loss: 0.1109 - accuracy: 0.8867 - val_loss: 0.1106 - val_accuracy: 0.9000 - 32s/epoch - 282ms/step\n",
            "Epoch 22/200\n",
            "115/115 - 33s - loss: 0.1010 - accuracy: 0.8982 - val_loss: 0.1481 - val_accuracy: 0.8625 - 33s/epoch - 287ms/step\n",
            "Epoch 23/200\n",
            "115/115 - 32s - loss: 0.0953 - accuracy: 0.8995 - val_loss: 0.1229 - val_accuracy: 0.8562 - 32s/epoch - 282ms/step\n",
            "Epoch 24/200\n",
            "115/115 - 33s - loss: 0.0900 - accuracy: 0.9105 - val_loss: 0.1088 - val_accuracy: 0.9000 - 33s/epoch - 286ms/step\n",
            "Epoch 25/200\n",
            "115/115 - 31s - loss: 0.0937 - accuracy: 0.9094 - val_loss: 0.1278 - val_accuracy: 0.8625 - 31s/epoch - 273ms/step\n",
            "Epoch 26/200\n",
            "115/115 - 32s - loss: 0.0898 - accuracy: 0.9054 - val_loss: 0.1190 - val_accuracy: 0.8687 - 32s/epoch - 279ms/step\n",
            "Epoch 27/200\n",
            "115/115 - 33s - loss: 0.0869 - accuracy: 0.9139 - val_loss: 0.1482 - val_accuracy: 0.8438 - 33s/epoch - 287ms/step\n",
            "Epoch 28/200\n",
            "115/115 - 33s - loss: 0.0898 - accuracy: 0.9091 - val_loss: 0.1244 - val_accuracy: 0.8625 - 33s/epoch - 290ms/step\n",
            "Epoch 29/200\n",
            "115/115 - 34s - loss: 0.0956 - accuracy: 0.9019 - val_loss: 0.1195 - val_accuracy: 0.9000 - 34s/epoch - 294ms/step\n",
            "Epoch 30/200\n",
            "115/115 - 33s - loss: 0.0838 - accuracy: 0.9136 - val_loss: 0.1044 - val_accuracy: 0.8875 - 33s/epoch - 285ms/step\n",
            "Epoch 31/200\n",
            "115/115 - 32s - loss: 0.0872 - accuracy: 0.9137 - val_loss: 0.1352 - val_accuracy: 0.8375 - 32s/epoch - 280ms/step\n",
            "Epoch 32/200\n",
            "115/115 - 33s - loss: 0.0893 - accuracy: 0.9096 - val_loss: 0.1048 - val_accuracy: 0.9000 - 33s/epoch - 284ms/step\n",
            "Epoch 33/200\n",
            "115/115 - 33s - loss: 0.0824 - accuracy: 0.9130 - val_loss: 0.1047 - val_accuracy: 0.8750 - 33s/epoch - 283ms/step\n",
            "Epoch 34/200\n",
            "115/115 - 32s - loss: 0.0912 - accuracy: 0.9133 - val_loss: 0.1167 - val_accuracy: 0.8750 - 32s/epoch - 274ms/step\n",
            "Epoch 35/200\n",
            "115/115 - 32s - loss: 0.0825 - accuracy: 0.9197 - val_loss: 0.1414 - val_accuracy: 0.8500 - 32s/epoch - 276ms/step\n",
            "Epoch 36/200\n",
            "115/115 - 31s - loss: 0.0874 - accuracy: 0.9128 - val_loss: 0.1214 - val_accuracy: 0.8938 - 31s/epoch - 274ms/step\n",
            "Epoch 37/200\n",
            "115/115 - 32s - loss: 0.0765 - accuracy: 0.9252 - val_loss: 0.1108 - val_accuracy: 0.8687 - 32s/epoch - 276ms/step\n",
            "Epoch 38/200\n",
            "115/115 - 32s - loss: 0.0721 - accuracy: 0.9293 - val_loss: 0.1176 - val_accuracy: 0.8875 - 32s/epoch - 281ms/step\n",
            "Epoch 39/200\n",
            "115/115 - 32s - loss: 0.0786 - accuracy: 0.9220 - val_loss: 0.1478 - val_accuracy: 0.8687 - 32s/epoch - 276ms/step\n",
            "Epoch 40/200\n",
            "115/115 - 31s - loss: 0.0738 - accuracy: 0.9271 - val_loss: 0.1062 - val_accuracy: 0.8750 - 31s/epoch - 269ms/step\n",
            "Epoch 41/200\n",
            "115/115 - 33s - loss: 0.0737 - accuracy: 0.9255 - val_loss: 0.0977 - val_accuracy: 0.8875 - 33s/epoch - 285ms/step\n",
            "Epoch 42/200\n",
            "115/115 - 33s - loss: 0.0797 - accuracy: 0.9208 - val_loss: 0.2098 - val_accuracy: 0.8062 - 33s/epoch - 286ms/step\n",
            "Epoch 43/200\n",
            "115/115 - 33s - loss: 0.0809 - accuracy: 0.9222 - val_loss: 0.1186 - val_accuracy: 0.8625 - 33s/epoch - 283ms/step\n",
            "Epoch 44/200\n",
            "115/115 - 33s - loss: 0.0719 - accuracy: 0.9332 - val_loss: 0.1406 - val_accuracy: 0.8438 - 33s/epoch - 285ms/step\n",
            "Epoch 45/200\n",
            "115/115 - 33s - loss: 0.0725 - accuracy: 0.9233 - val_loss: 0.1068 - val_accuracy: 0.8875 - 33s/epoch - 286ms/step\n",
            "Epoch 46/200\n",
            "115/115 - 33s - loss: 0.0697 - accuracy: 0.9348 - val_loss: 0.1833 - val_accuracy: 0.8313 - 33s/epoch - 284ms/step\n",
            "Epoch 47/200\n",
            "115/115 - 33s - loss: 0.0662 - accuracy: 0.9351 - val_loss: 0.1343 - val_accuracy: 0.8375 - 33s/epoch - 286ms/step\n",
            "Epoch 48/200\n",
            "115/115 - 32s - loss: 0.0718 - accuracy: 0.9342 - val_loss: 0.1094 - val_accuracy: 0.8938 - 32s/epoch - 278ms/step\n",
            "Epoch 49/200\n",
            "115/115 - 32s - loss: 0.0636 - accuracy: 0.9391 - val_loss: 0.1589 - val_accuracy: 0.8313 - 32s/epoch - 281ms/step\n",
            "Epoch 50/200\n",
            "115/115 - 31s - loss: 0.0646 - accuracy: 0.9348 - val_loss: 0.0918 - val_accuracy: 0.9125 - 31s/epoch - 273ms/step\n",
            "Epoch 51/200\n",
            "115/115 - 33s - loss: 0.0632 - accuracy: 0.9383 - val_loss: 0.1526 - val_accuracy: 0.8375 - 33s/epoch - 283ms/step\n",
            "Epoch 52/200\n",
            "115/115 - 33s - loss: 0.0642 - accuracy: 0.9419 - val_loss: 0.1134 - val_accuracy: 0.9000 - 33s/epoch - 284ms/step\n",
            "Epoch 53/200\n",
            "115/115 - 34s - loss: 0.0659 - accuracy: 0.9361 - val_loss: 0.1243 - val_accuracy: 0.8750 - 34s/epoch - 291ms/step\n",
            "Epoch 54/200\n",
            "115/115 - 33s - loss: 0.0561 - accuracy: 0.9462 - val_loss: 0.1109 - val_accuracy: 0.9187 - 33s/epoch - 286ms/step\n",
            "Epoch 55/200\n",
            "\n",
            "Akurasi telah mencapai > 92%!\n",
            "115/115 - 33s - loss: 0.0603 - accuracy: 0.9386 - val_loss: 0.0634 - val_accuracy: 0.9375 - 33s/epoch - 286ms/step\n"
          ]
        }
      ]
    },
    {
      "cell_type": "code",
      "source": [
        "import matplotlib.pyplot as plt\n",
        "\n",
        "# plot accuracy\n",
        "plt.plot(history.history['accuracy'])\n",
        "plt.plot(history.history['val_accuracy'])\n",
        "plt.title('Accuracy Model')\n",
        "plt.ylabel('accuracy')\n",
        "plt.xlabel('epoch')\n",
        "plt.legend(['Train', 'Val'], loc='upper left')\n",
        "plt.grid(True)\n",
        "plt.show()\n",
        "\n",
        "# plot loss\n",
        "plt.plot(history.history['loss'])\n",
        "plt.plot(history.history['val_loss'])\n",
        "plt.title('Loss Model')\n",
        "plt.ylabel('Loss')\n",
        "plt.xlabel('epoch')\n",
        "plt.legend(['Train', 'Val'], loc='upper left')\n",
        "plt.grid(True)\n",
        "plt.show()"
      ],
      "metadata": {
        "colab": {
          "base_uri": "https://localhost:8080/",
          "height": 573
        },
        "id": "SQvHKDorIAjA",
        "outputId": "b22cd853-4d83-411e-c5a3-d3c671b5c295"
      },
      "execution_count": 41,
      "outputs": [
        {
          "output_type": "display_data",
          "data": {
            "text/plain": [
              "<Figure size 432x288 with 1 Axes>"
            ],
            "image/png": "[encoded data removed]"
          },
          "metadata": {
            "needs_background": "light"
          }
        },
        {
          "output_type": "display_data",
          "data": {
            "text/plain": [
              "<Figure size 432x288 with 1 Axes>"
            ],
            "image/png": "[encoded data removed]"
          },
          "metadata": {
            "needs_background": "light"
          }
        }
      ]
    },
    {
      "cell_type": "code",
      "source": [
        "# konversi model\n",
        "converter = tf.lite.TFLiteConverter.from_keras_model(model)\n",
        "tflite_model = converter.convert()\n",
        "\n",
        "# simpan model\n",
        "with tf.io.gfile.GFile('klasifikasi_gambar_model.tflite', 'wb') as f:\n",
        "  f.write(tflite_model)"
      ],
      "metadata": {
        "id": "UklH1zzrJYn9"
      },
      "execution_count": 42,
      "outputs": []
    }
  ]
}